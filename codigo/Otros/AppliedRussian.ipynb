{
 "cells": [
  {
   "cell_type": "code",
   "execution_count": 2,
   "metadata": {},
   "outputs": [],
   "source": [
    "#Importar librerías:\n",
    "import numpy as np\n",
    "from numpy import exp\n",
    "import matplotlib.pyplot as plt\n",
    "%matplotlib inline\n",
    "from scipy.special import factorial\n",
    "import pandas as pd\n",
    "from mpl_toolkits.mplot3d import Axes3D\n",
    "import statsmodels.api as sm\n",
    "from statsmodels.api import Poisson\n",
    "from scipy import stats\n",
    "from scipy.stats import norm\n",
    "from statsmodels.iolib.summary2 import summary_col"
   ]
  },
  {
   "cell_type": "code",
   "execution_count": null,
   "metadata": {},
   "outputs": [],
   "source": [
    "#pip install statsmodels"
   ]
  },
  {
   "cell_type": "markdown",
   "metadata": {},
   "source": [
    "### Estimacion de Máxima Verosimilitud"
   ]
  },
  {
   "cell_type": "markdown",
   "metadata": {},
   "source": [
    "Los [datos](https://github.com/QuantEcon/lecture-python/blob/master/source/_static/lecture_specific/mle/fp.dta?raw=true) provienen del artículo de Daniel Treisman (2016), que concluye que Rusia tiene un número mayor de multimillonarios de lo que predicen factores económicos como el tamaño del mercado y la tasa impositiva. [Referencia](https://python.quantecon.org/mle.html)"
   ]
  },
  {
   "cell_type": "code",
   "execution_count": 3,
   "metadata": {},
   "outputs": [
    {
     "data": {
      "text/html": [
       "<div>\n",
       "<style scoped>\n",
       "    .dataframe tbody tr th:only-of-type {\n",
       "        vertical-align: middle;\n",
       "    }\n",
       "\n",
       "    .dataframe tbody tr th {\n",
       "        vertical-align: top;\n",
       "    }\n",
       "\n",
       "    .dataframe thead th {\n",
       "        text-align: right;\n",
       "    }\n",
       "</style>\n",
       "<table border=\"1\" class=\"dataframe\">\n",
       "  <thead>\n",
       "    <tr style=\"text-align: right;\">\n",
       "      <th></th>\n",
       "      <th>country</th>\n",
       "      <th>ccode</th>\n",
       "      <th>year</th>\n",
       "      <th>cyear</th>\n",
       "      <th>numbil</th>\n",
       "      <th>...</th>\n",
       "      <th>topint08</th>\n",
       "      <th>rintr</th>\n",
       "      <th>noyrs</th>\n",
       "      <th>roflaw</th>\n",
       "      <th>nrrents</th>\n",
       "    </tr>\n",
       "  </thead>\n",
       "  <tbody>\n",
       "    <tr>\n",
       "      <th>0</th>\n",
       "      <td>United States</td>\n",
       "      <td>2.0</td>\n",
       "      <td>1990.0</td>\n",
       "      <td>21990.0</td>\n",
       "      <td>NaN</td>\n",
       "      <td>...</td>\n",
       "      <td>39.799999</td>\n",
       "      <td>4.988405</td>\n",
       "      <td>20.0</td>\n",
       "      <td>1.61</td>\n",
       "      <td>NaN</td>\n",
       "    </tr>\n",
       "    <tr>\n",
       "      <th>1</th>\n",
       "      <td>United States</td>\n",
       "      <td>2.0</td>\n",
       "      <td>1991.0</td>\n",
       "      <td>21991.0</td>\n",
       "      <td>NaN</td>\n",
       "      <td>...</td>\n",
       "      <td>39.799999</td>\n",
       "      <td>4.988405</td>\n",
       "      <td>20.0</td>\n",
       "      <td>1.61</td>\n",
       "      <td>NaN</td>\n",
       "    </tr>\n",
       "    <tr>\n",
       "      <th>2</th>\n",
       "      <td>United States</td>\n",
       "      <td>2.0</td>\n",
       "      <td>1992.0</td>\n",
       "      <td>21992.0</td>\n",
       "      <td>NaN</td>\n",
       "      <td>...</td>\n",
       "      <td>39.799999</td>\n",
       "      <td>4.988405</td>\n",
       "      <td>20.0</td>\n",
       "      <td>1.61</td>\n",
       "      <td>NaN</td>\n",
       "    </tr>\n",
       "    <tr>\n",
       "      <th>3</th>\n",
       "      <td>United States</td>\n",
       "      <td>2.0</td>\n",
       "      <td>1993.0</td>\n",
       "      <td>21993.0</td>\n",
       "      <td>NaN</td>\n",
       "      <td>...</td>\n",
       "      <td>39.799999</td>\n",
       "      <td>4.988405</td>\n",
       "      <td>20.0</td>\n",
       "      <td>1.61</td>\n",
       "      <td>NaN</td>\n",
       "    </tr>\n",
       "    <tr>\n",
       "      <th>4</th>\n",
       "      <td>United States</td>\n",
       "      <td>2.0</td>\n",
       "      <td>1994.0</td>\n",
       "      <td>21994.0</td>\n",
       "      <td>NaN</td>\n",
       "      <td>...</td>\n",
       "      <td>39.799999</td>\n",
       "      <td>4.988405</td>\n",
       "      <td>20.0</td>\n",
       "      <td>1.61</td>\n",
       "      <td>NaN</td>\n",
       "    </tr>\n",
       "  </tbody>\n",
       "</table>\n",
       "<p>5 rows × 36 columns</p>\n",
       "</div>"
      ],
      "text/plain": [
       "         country  ccode    year    cyear  numbil  ...   topint08     rintr  \\\n",
       "0  United States    2.0  1990.0  21990.0     NaN  ...  39.799999  4.988405   \n",
       "1  United States    2.0  1991.0  21991.0     NaN  ...  39.799999  4.988405   \n",
       "2  United States    2.0  1992.0  21992.0     NaN  ...  39.799999  4.988405   \n",
       "3  United States    2.0  1993.0  21993.0     NaN  ...  39.799999  4.988405   \n",
       "4  United States    2.0  1994.0  21994.0     NaN  ...  39.799999  4.988405   \n",
       "\n",
       "   noyrs  roflaw  nrrents  \n",
       "0   20.0    1.61      NaN  \n",
       "1   20.0    1.61      NaN  \n",
       "2   20.0    1.61      NaN  \n",
       "3   20.0    1.61      NaN  \n",
       "4   20.0    1.61      NaN  \n",
       "\n",
       "[5 rows x 36 columns]"
      ]
     },
     "execution_count": 3,
     "metadata": {},
     "output_type": "execute_result"
    }
   ],
   "source": [
    "#Carga de datos \n",
    "pd.options.display.max_columns = 10\n",
    "\n",
    "# Carga de datos.\n",
    "df = pd.read_stata('https://github.com/QuantEcon/lecture-python/blob/master/source/_static/lecture_specific/mle/fp.dta?raw=true')\n",
    "df.head()"
   ]
  },
  {
   "cell_type": "markdown",
   "metadata": {},
   "source": [
    "Al graficar el histograma de frecuencias se observa que la distribución tiene forma Poisson con cola larga"
   ]
  },
  {
   "cell_type": "code",
   "execution_count": 4,
   "metadata": {},
   "outputs": [
    {
     "data": {
      "image/png": "[encoded data removed]",
      "text/plain": [
       "<Figure size 864x576 with 1 Axes>"
      ]
     },
     "metadata": {
      "needs_background": "light"
     },
     "output_type": "display_data"
    }
   ],
   "source": [
    "#Histograma de datos:\n",
    "numbil0_2008 = df[(df['year'] == 2008) & (\n",
    "    df['country'] != 'United States')].loc[:, 'numbil0']\n",
    "\n",
    "plt.subplots(figsize=(12, 8))\n",
    "plt.hist(numbil0_2008, bins=30)\n",
    "plt.xlim(left=0)\n",
    "plt.grid()\n",
    "plt.xlabel('Número de billonarios en 2008')\n",
    "plt.ylabel('Count')\n",
    "plt.show()"
   ]
  },
  {
   "cell_type": "markdown",
   "metadata": {},
   "source": [
    "Códificamos la función de log-verosimilitud asociada a una ditribución Poisson. Crearemos una clase llamada Poisson para que podamos volver a calcular fácilmente los valores de la probabilidad de cada uno de los registros, el gradiente y el hessiano para cada iteración."
   ]
  },
  {
   "cell_type": "code",
   "execution_count": 5,
   "metadata": {},
   "outputs": [],
   "source": [
    "class Poisson:\n",
    "\n",
    "    def __init__(self, y, X, β):\n",
    "        self.X = X\n",
    "        self.n, self.k = X.shape\n",
    "        self.y = y.reshape(self.n,1)\n",
    "        self.β = β.reshape(self.k,1)\n",
    "\n",
    "    def μ(self):\n",
    "        return np.exp(self.X @ self.β)\n",
    "\n",
    "    def logL(self):\n",
    "        y = self.y\n",
    "        μ = self.μ()\n",
    "        return np.sum(y * np.log(μ) - μ - np.log(factorial(y)))\n",
    "\n",
    "    def G(self):\n",
    "        y = self.y\n",
    "        μ = self.μ()\n",
    "        return X.T @ (y - μ)\n",
    "\n",
    "    def H(self):\n",
    "        X = self.X\n",
    "        μ = self.μ()\n",
    "        return -(X.T @ (μ * X))"
   ]
  },
  {
   "cell_type": "markdown",
   "metadata": {},
   "source": [
    "Construímos la función de Newton-Raphson que permite un modelo como parámetro, a diferencia de la primera función de Newton-Raphson."
   ]
  },
  {
   "cell_type": "code",
   "execution_count": 6,
   "metadata": {},
   "outputs": [],
   "source": [
    "def newton_raphson_model(modelo, tolerancia=1e-3, maxiter=1000, display=True):\n",
    "\n",
    "    i = 0\n",
    "    error = 100  # Initial error value\n",
    "\n",
    "    # Print header of output\n",
    "    if display:\n",
    "        header = f'{\"Iteration_k\":<13}{\"Log-likelihood\":<16}{\"θ\":<60}'\n",
    "        print(header)\n",
    "        print(\"-\" * len(header))\n",
    "\n",
    "    while np.any(error > tolerancia) and i < maxiter:\n",
    "        H, G = modelo.H(), modelo.G()\n",
    "        β_new = modelo.β - (np.linalg.inv(H) @ G)\n",
    "        error = β_new - modelo.β\n",
    "        modelo.β = β_new\n",
    "\n",
    "        # Print iterations\n",
    "        if display:\n",
    "            β_list = [f'{t:.3}' for t in list(modelo.β.flatten())]\n",
    "            update = f'{i:<13}{modelo.logL():<16.8}{β_list}'\n",
    "            print(update)\n",
    "\n",
    "        i += 1\n",
    "\n",
    "    print(f'Number of iterations: {i}')\n",
    "    print(f'β_hat = {modelo.β.flatten()}')\n",
    "\n",
    "    return modelo.β.flatten()"
   ]
  },
  {
   "cell_type": "markdown",
   "metadata": {},
   "source": [
    "Ahora repliquemos los resultados del artículo de Daniel Treisman, Los multimillonarios de Rusia, mencionado anteriormente en el notebook.\n",
    "\n",
    "Treisman comienza estimando la ecuación siguiente:\n",
    "\n",
    "y_i es el número de multimillonarios i\n",
    "\n",
    "x_i1 es logPIB per cápitai\n",
    "\n",
    "x_i2 es logpoblacióni\n",
    "\n",
    "x_i3 son años en GATTi - años de membresía en el GATT y la OMC (para poder acceder a los mercados internacionales)\n",
    "\n",
    "Nota: Para este ejercicio solamente consideraremos datos del 2008."
   ]
  },
  {
   "cell_type": "code",
   "execution_count": 7,
   "metadata": {},
   "outputs": [],
   "source": [
    "# Solamente 2008\n",
    "df = df[df['year'] == 2008]\n",
    "# Agregar el intercepto\n",
    "df['const'] = 1\n",
    "# Regresiones Poisson.\n",
    "reg = df[['const','lngdppc', 'lnpop', 'gattwto08', 'numbil0']]"
   ]
  },
  {
   "cell_type": "code",
   "execution_count": 8,
   "metadata": {},
   "outputs": [
    {
     "data": {
      "text/html": [
       "<div>\n",
       "<style scoped>\n",
       "    .dataframe tbody tr th:only-of-type {\n",
       "        vertical-align: middle;\n",
       "    }\n",
       "\n",
       "    .dataframe tbody tr th {\n",
       "        vertical-align: top;\n",
       "    }\n",
       "\n",
       "    .dataframe thead th {\n",
       "        text-align: right;\n",
       "    }\n",
       "</style>\n",
       "<table border=\"1\" class=\"dataframe\">\n",
       "  <thead>\n",
       "    <tr style=\"text-align: right;\">\n",
       "      <th></th>\n",
       "      <th>const</th>\n",
       "      <th>lngdppc</th>\n",
       "      <th>lnpop</th>\n",
       "      <th>gattwto08</th>\n",
       "      <th>numbil0</th>\n",
       "    </tr>\n",
       "  </thead>\n",
       "  <tbody>\n",
       "    <tr>\n",
       "      <th>18</th>\n",
       "      <td>1</td>\n",
       "      <td>10.786021</td>\n",
       "      <td>19.532846</td>\n",
       "      <td>60.0</td>\n",
       "      <td>469.0</td>\n",
       "    </tr>\n",
       "    <tr>\n",
       "      <th>44</th>\n",
       "      <td>1</td>\n",
       "      <td>10.743365</td>\n",
       "      <td>17.319439</td>\n",
       "      <td>0.0</td>\n",
       "      <td>25.0</td>\n",
       "    </tr>\n",
       "    <tr>\n",
       "      <th>70</th>\n",
       "      <td>1</td>\n",
       "      <td>10.072139</td>\n",
       "      <td>12.760934</td>\n",
       "      <td>0.0</td>\n",
       "      <td>0.0</td>\n",
       "    </tr>\n",
       "    <tr>\n",
       "      <th>95</th>\n",
       "      <td>1</td>\n",
       "      <td>10.223734</td>\n",
       "      <td>11.526276</td>\n",
       "      <td>0.0</td>\n",
       "      <td>0.0</td>\n",
       "    </tr>\n",
       "    <tr>\n",
       "      <th>120</th>\n",
       "      <td>1</td>\n",
       "      <td>11.446847</td>\n",
       "      <td>11.086334</td>\n",
       "      <td>0.0</td>\n",
       "      <td>0.0</td>\n",
       "    </tr>\n",
       "  </tbody>\n",
       "</table>\n",
       "</div>"
      ],
      "text/plain": [
       "     const    lngdppc      lnpop  gattwto08  numbil0\n",
       "18       1  10.786021  19.532846       60.0    469.0\n",
       "44       1  10.743365  17.319439        0.0     25.0\n",
       "70       1  10.072139  12.760934        0.0      0.0\n",
       "95       1  10.223734  11.526276        0.0      0.0\n",
       "120      1  11.446847  11.086334        0.0      0.0"
      ]
     },
     "execution_count": 8,
     "metadata": {},
     "output_type": "execute_result"
    }
   ],
   "source": [
    "reg.head()"
   ]
  },
  {
   "cell_type": "code",
   "execution_count": 9,
   "metadata": {},
   "outputs": [
    {
     "data": {
      "text/plain": [
       "const         1.000000\n",
       "lngdppc       8.560203\n",
       "lnpop        15.191895\n",
       "gattwto08    24.018780\n",
       "numbil0       5.281690\n",
       "dtype: float64"
      ]
     },
     "execution_count": 9,
     "metadata": {},
     "output_type": "execute_result"
    }
   ],
   "source": [
    "reg.mean()"
   ]
  },
  {
   "cell_type": "code",
   "execution_count": 10,
   "metadata": {},
   "outputs": [],
   "source": [
    "#Imputamos con la media\n",
    "regf = reg.fillna(reg.mean())"
   ]
  },
  {
   "cell_type": "code",
   "execution_count": 11,
   "metadata": {},
   "outputs": [],
   "source": [
    "### Separando y de x \n",
    "X = regf.iloc[:,[0,1,2,3]]\n",
    "y = regf.iloc[:,[4]]"
   ]
  },
  {
   "cell_type": "code",
   "execution_count": 12,
   "metadata": {},
   "outputs": [],
   "source": [
    "#convertimos a numpy\n",
    "X = X.to_numpy()\n",
    "y = y.to_numpy()"
   ]
  },
  {
   "cell_type": "code",
   "execution_count": 13,
   "metadata": {},
   "outputs": [],
   "source": [
    "#Take a guess at initial βs\n",
    "init_β = np.array([0.1, 0.1, 0.1, 0.1])\n",
    "#Create an object with Poisson model values\n",
    "poi = Poisson(y, X, β=init_β)"
   ]
  },
  {
   "cell_type": "code",
   "execution_count": 14,
   "metadata": {},
   "outputs": [
    {
     "name": "stdout",
     "output_type": "stream",
     "text": [
      "Iteration_k  Log-likelihood  θ                                                           \n",
      "-----------------------------------------------------------------------------------------\n",
      "0            -inf            ['-0.932', '0.102', '0.103', '0.0994']\n",
      "1            -inf            ['-2.02', '0.108', '0.111', '0.0978']\n",
      "2            -inf            ['-3.26', '0.124', '0.132', '0.0937']\n",
      "3            -inf            ['-4.93', '0.166', '0.188', '0.0837']\n",
      "4            -inf            ['-7.81', '0.267', '0.321', '0.0632']\n",
      "5            -inf            ['-13.3', '0.476', '0.582', '0.0354']\n",
      "6            -inf            ['-21.0', '0.759', '0.894', '0.016']\n",
      "7            -inf            ['-26.4', '0.969', '1.09', '0.00917']\n",
      "8            -inf            ['-28.5', '1.06', '1.15', '0.00711']\n",
      "9            -inf            ['-28.7', '1.07', '1.16', '0.00683']\n",
      "10           -inf            ['-28.7', '1.07', '1.16', '0.00683']\n",
      "Number of iterations: 11\n",
      "β_hat = [-2.87359323e+01  1.07004016e+00  1.15985257e+00  6.82561588e-03]\n"
     ]
    }
   ],
   "source": [
    "#Use newton_raphson to find the MLE\n",
    "β_hat = newton_raphson_model(poi, display=True)"
   ]
  },
  {
   "cell_type": "code",
   "execution_count": 20,
   "metadata": {},
   "outputs": [
    {
     "name": "stdout",
     "output_type": "stream",
     "text": [
      "Optimization terminated successfully.\n",
      "         Current function value: 2.226090\n",
      "         Iterations 9\n",
      "                          Poisson Regression Results                          \n",
      "==============================================================================\n",
      "Dep. Variable:                numbil0   No. Observations:                  197\n",
      "Model:                        Poisson   Df Residuals:                      193\n",
      "Method:                           MLE   Df Model:                            3\n",
      "Date:                Sun, 06 Dec 2020   Pseudo R-squ.:                  0.8574\n",
      "Time:                        01:26:41   Log-Likelihood:                -438.54\n",
      "converged:                       True   LL-Null:                       -3074.7\n",
      "Covariance Type:                  HC0   LLR p-value:                     0.000\n",
      "==============================================================================\n",
      "                 coef    std err          z      P>|z|      [0.025      0.975]\n",
      "------------------------------------------------------------------------------\n",
      "const        -29.0495      2.578    -11.268      0.000     -34.103     -23.997\n",
      "lngdppc        1.0839      0.138      7.834      0.000       0.813       1.355\n",
      "lnpop          1.1714      0.097     12.024      0.000       0.980       1.362\n",
      "gattwto08      0.0060      0.007      0.868      0.386      -0.008       0.019\n",
      "==============================================================================\n"
     ]
    }
   ],
   "source": [
    "#Probamos con el método de statmodels.\n",
    "# Keep only year 2008\n",
    "df2 = df[df['year'] == 2008]\n",
    "# Add a constant\n",
    "df2['const'] = 1\n",
    "# Variable sets\n",
    "reg2 = ['const', 'lngdppc', 'lnpop', 'gattwto08']\n",
    "poisson_reg = sm.Poisson(df[['numbil0']], df[reg2],\n",
    "                         missing='drop').fit(cov_type='HC0')\n",
    "print(poisson_reg.summary())"
   ]
  },
  {
   "cell_type": "code",
   "execution_count": null,
   "metadata": {},
   "outputs": [],
   "source": []
  },
  {
   "cell_type": "code",
   "execution_count": null,
   "metadata": {},
   "outputs": [],
   "source": []
  },
  {
   "cell_type": "code",
   "execution_count": null,
   "metadata": {},
   "outputs": [],
   "source": []
  },
  {
   "cell_type": "code",
   "execution_count": null,
   "metadata": {},
   "outputs": [],
   "source": []
  }
 ],
 "metadata": {
  "kernelspec": {
   "display_name": "Python 3",
   "language": "python",
   "name": "python3"
  },
  "language_info": {
   "codemirror_mode": {
    "name": "ipython",
    "version": 3
   },
   "file_extension": ".py",
   "mimetype": "text/x-python",
   "name": "python",
   "nbconvert_exporter": "python",
   "pygments_lexer": "ipython3",
   "version": "3.7.4"
  }
 },
 "nbformat": 4,
 "nbformat_minor": 4
}
