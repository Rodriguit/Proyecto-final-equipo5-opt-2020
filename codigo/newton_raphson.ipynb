{
 "cells": [
  {
   "cell_type": "code",
   "execution_count": null,
   "metadata": {},
   "outputs": [],
   "source": [
    "def newton_raphson(fn, dfn, x, tol, maxiter):\n",
    "    for i in range(maxiter):\n",
    "        xnew = x - fn(x)/dfn(x)\n",
    "        if abs(xnew - x) < 0.000001: break\n",
    "        x = xnew\n",
    "    return \"The  root is %f at %d iterations.\" % (xnew, i)\n",
    "\n",
    "\n",
    "#Veamos un ejemplo:\n",
    "y = lambda x: x**3 - x\n",
    "dy = lambda x: 3 * x**2 - 1\n",
    "\n",
    "print(newton_raphson(y, dy, 0.3, 0.00001, 100))"
   ]
  }
 ],
 "metadata": {
  "kernelspec": {
   "display_name": "Python 3",
   "language": "python",
   "name": "python3"
  },
  "language_info": {
   "codemirror_mode": {
    "name": "ipython",
    "version": 3
   },
   "file_extension": ".py",
   "mimetype": "text/x-python",
   "name": "python",
   "nbconvert_exporter": "python",
   "pygments_lexer": "ipython3",
   "version": "3.7.3"
  }
 },
 "nbformat": 4,
 "nbformat_minor": 4
}
